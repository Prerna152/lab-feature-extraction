{
 "cells": [
  {
   "cell_type": "markdown",
   "metadata": {},
   "source": [
    "# Before your start:\n",
    "- Read the README.md file\n",
    "- Comment as much as you can and use the resources in the README.md file\n",
    "- Happy learning!"
   ]
  },
  {
   "cell_type": "code",
   "execution_count": null,
   "metadata": {},
   "outputs": [],
   "source": [
    "#Import your libraries\n",
    "import numpy as np\n",
    "import pandas as pd"
   ]
  },
  {
   "cell_type": "markdown",
   "metadata": {},
   "source": [
    "# Introduction\n",
    "\n",
    "In this lab, we will use two datasets. Both datasets contain variables that describe apps from the Google Play Store. We will use our knowledge in feature extraction to process these datasets and prepare them for the use of a ML algorithm."
   ]
  },
  {
   "cell_type": "markdown",
   "metadata": {},
   "source": [
    "# Challenge 1 - Loading and Extracting Features from the First Dataset"
   ]
  },
  {
   "cell_type": "markdown",
   "metadata": {},
   "source": [
    "#### In this challenge, our goals are: \n",
    "\n",
    "* Exploring the dataset.\n",
    "* Identify the columns with missing values.\n",
    "* Either replacing the missing values in each column or drop the columns.\n",
    "* Conver each column to the appropriate type."
   ]
  },
  {
   "cell_type": "markdown",
   "metadata": {},
   "source": [
    "#### The first dataset contains different information describing the apps. \n",
    "\n",
    "Load the dataset into the variable `google_play` in the cell below. The dataset is in the file `googleplaystore.csv`"
   ]
  },
  {
   "cell_type": "code",
   "execution_count": 1,
   "metadata": {},
   "outputs": [
    {
     "name": "stdout",
     "output_type": "stream",
     "text": [
      "Dataset loaded successfully.\n"
     ]
    }
   ],
   "source": [
    "# Your code here:\n",
    "import pandas as pd\n",
    "\n",
    "file_path = r'C:\\Users\\navin\\OneDrive\\Desktop\\Ironhack\\Week_Lab\\Week 17\\lab-feature-extraction\\data\\googleplaystore.csv'\n",
    "google_play = pd.read_csv(file_path)\n",
    "\n",
    "print(\"Dataset loaded successfully.\")"
   ]
  },
  {
   "cell_type": "markdown",
   "metadata": {},
   "source": [
    "Examine all variables and their types in the following cell"
   ]
  },
  {
   "cell_type": "code",
   "execution_count": 2,
   "metadata": {},
   "outputs": [
    {
     "name": "stdout",
     "output_type": "stream",
     "text": [
      "<class 'pandas.core.frame.DataFrame'>\n",
      "RangeIndex: 10841 entries, 0 to 10840\n",
      "Data columns (total 13 columns):\n",
      " #   Column          Non-Null Count  Dtype  \n",
      "---  ------          --------------  -----  \n",
      " 0   App             10841 non-null  object \n",
      " 1   Category        10841 non-null  object \n",
      " 2   Rating          9367 non-null   float64\n",
      " 3   Reviews         10841 non-null  object \n",
      " 4   Size            10841 non-null  object \n",
      " 5   Installs        10841 non-null  object \n",
      " 6   Type            10840 non-null  object \n",
      " 7   Price           10841 non-null  object \n",
      " 8   Content Rating  10840 non-null  object \n",
      " 9   Genres          10841 non-null  object \n",
      " 10  Last Updated    10841 non-null  object \n",
      " 11  Current Ver     10833 non-null  object \n",
      " 12  Android Ver     10838 non-null  object \n",
      "dtypes: float64(1), object(12)\n",
      "memory usage: 1.1+ MB\n"
     ]
    }
   ],
   "source": [
    "# Your code here:\n",
    "google_play.info()"
   ]
  },
  {
   "cell_type": "markdown",
   "metadata": {},
   "source": [
    "#### Since this dataset only contains one numeric column, let's skip the `describe()` function and look at the first 5 rows using the `head()` function"
   ]
  },
  {
   "cell_type": "code",
   "execution_count": 3,
   "metadata": {},
   "outputs": [
    {
     "name": "stdout",
     "output_type": "stream",
     "text": [
      "                                                 App        Category  Rating  \\\n",
      "0     Photo Editor & Candy Camera & Grid & ScrapBook  ART_AND_DESIGN     4.1   \n",
      "1                                Coloring book moana  ART_AND_DESIGN     3.9   \n",
      "2  U Launcher Lite – FREE Live Cool Themes, Hide ...  ART_AND_DESIGN     4.7   \n",
      "3                              Sketch - Draw & Paint  ART_AND_DESIGN     4.5   \n",
      "4              Pixel Draw - Number Art Coloring Book  ART_AND_DESIGN     4.3   \n",
      "\n",
      "  Reviews  Size     Installs  Type Price Content Rating  \\\n",
      "0     159   19M      10,000+  Free     0       Everyone   \n",
      "1     967   14M     500,000+  Free     0       Everyone   \n",
      "2   87510  8.7M   5,000,000+  Free     0       Everyone   \n",
      "3  215644   25M  50,000,000+  Free     0           Teen   \n",
      "4     967  2.8M     100,000+  Free     0       Everyone   \n",
      "\n",
      "                      Genres      Last Updated         Current Ver  \\\n",
      "0               Art & Design   January 7, 2018               1.0.0   \n",
      "1  Art & Design;Pretend Play  January 15, 2018               2.0.0   \n",
      "2               Art & Design    August 1, 2018               1.2.4   \n",
      "3               Art & Design      June 8, 2018  Varies with device   \n",
      "4    Art & Design;Creativity     June 20, 2018                 1.1   \n",
      "\n",
      "    Android Ver  \n",
      "0  4.0.3 and up  \n",
      "1  4.0.3 and up  \n",
      "2  4.0.3 and up  \n",
      "3    4.2 and up  \n",
      "4    4.4 and up  \n"
     ]
    }
   ],
   "source": [
    "# Your code here:\n",
    "# Display the first 5 rows of the DataFrame 'google_play'\n",
    "print(google_play.head())"
   ]
  },
  {
   "cell_type": "markdown",
   "metadata": {},
   "source": [
    "#### We can see that there are a few columns that could be coerced to numeric.\n",
    "\n",
    "Start with the reviews column. We can evaluate what value is causing this column to be of object type finding the non-numeric values in this column. To do this, we recall the `to_numeric()` function. With this function, we are able to coerce all non-numeric data to null. We can then use the `isnull()` function to subset our dataframe using the True/False column that this function generates.\n",
    "\n",
    "In the cell below, transform the Reviews column to numeric and assign this new column to the variable `Reviews_numeric`. Make sure to coerce the errors."
   ]
  },
  {
   "cell_type": "code",
   "execution_count": 5,
   "metadata": {},
   "outputs": [
    {
     "name": "stdout",
     "output_type": "stream",
     "text": [
      "Rows with non-numeric Reviews:\n",
      "      Reviews  Reviews_numeric\n",
      "10472    3.0M              NaN\n"
     ]
    }
   ],
   "source": [
    "# Your code here:\n",
    "\n",
    "# Transform 'Reviews' column to numeric, coercing errors to NaN\n",
    "google_play['Reviews_numeric'] = pd.to_numeric(google_play['Reviews'], errors='coerce')\n",
    "\n",
    "# Create a mask for rows where Reviews_numeric is NaN\n",
    "mask = google_play['Reviews_numeric'].isnull()\n",
    "\n",
    "# Use the mask to subset the DataFrame and display rows with non-numeric Reviews\n",
    "non_numeric_reviews = google_play[mask]\n",
    "\n",
    "print(\"Rows with non-numeric Reviews:\")\n",
    "print(non_numeric_reviews[['Reviews', 'Reviews_numeric']])"
   ]
  },
  {
   "cell_type": "markdown",
   "metadata": {},
   "source": [
    "Next, create a column containing True/False values using the `isnull()` function. Assign this column to the `Reviews_isnull` variable."
   ]
  },
  {
   "cell_type": "code",
   "execution_count": 6,
   "metadata": {},
   "outputs": [],
   "source": [
    "# Your code here:\n",
    "# Create a column with True for NaN (non-numeric Reviews) and False for numeric Reviews\n",
    "google_play['Reviews_isnull'] = google_play['Reviews_numeric'].isnull()\n"
   ]
  },
  {
   "cell_type": "markdown",
   "metadata": {},
   "source": [
    "Finally, subset the `google_play` with `Reviews_isnull`. This should give you all the rows that contain non-numeric characters.\n",
    "\n",
    "Your output should look like:\n",
    "\n",
    "![Reviews_bool.png](../images/reviews-bool.png)"
   ]
  },
  {
   "cell_type": "code",
   "execution_count": 7,
   "metadata": {},
   "outputs": [
    {
     "name": "stdout",
     "output_type": "stream",
     "text": [
      "                                           App Category  Rating Reviews  \\\n",
      "10472  Life Made WI-Fi Touchscreen Photo Frame      1.9    19.0    3.0M   \n",
      "\n",
      "         Size Installs Type     Price Content Rating             Genres  \\\n",
      "10472  1,000+     Free    0  Everyone            NaN  February 11, 2018   \n",
      "\n",
      "      Last Updated Current Ver Android Ver  Reviews_numeric  Reviews_isnull  \n",
      "10472       1.0.19  4.0 and up         NaN              NaN            True  \n"
     ]
    }
   ],
   "source": [
    "# Your code here:\n",
    "non_numeric_reviews_df = google_play[google_play['Reviews_isnull']]\n",
    "\n",
    "# Display the subset DataFrame\n",
    "print(non_numeric_reviews_df)"
   ]
  },
  {
   "cell_type": "markdown",
   "metadata": {},
   "source": [
    "#### We see that Google Play is using a shorthand for millions. \n",
    "\n",
    "Let's write a function to transform this data.\n",
    "\n",
    "Steps:\n",
    "\n",
    "1. Create a function that returns the correct numeric values of *Reviews*.\n",
    "1. Define a test string with `M` in the last character.\n",
    "1. Test your function with the test string. Make sure your function works correctly. If not, modify your functions and test again."
   ]
  },
  {
   "cell_type": "code",
   "execution_count": 9,
   "metadata": {},
   "outputs": [
    {
     "name": "stdout",
     "output_type": "stream",
     "text": [
      "4000000.0\n",
      "True\n"
     ]
    }
   ],
   "source": [
    "# Your code here\n",
    "def convert_string_to_numeric(s):\n",
    "    \"\"\"\n",
    "    Convert a string value to numeric. If the last character of the string is 'M', \n",
    "    obtain the numeric part of the string, multiply it with 1,000,000, then return the result.\n",
    "    Otherwise, convert the string to a numeric value and return the result.\n",
    "    \n",
    "    Args:\n",
    "        s: The Reviews score in string format.\n",
    "\n",
    "    Returns:\n",
    "        The correct numeric value of the Reviews score.\n",
    "    \"\"\"\n",
    "    # Check if the last character is 'M'\n",
    "    if s[-1] == 'M':\n",
    "        # Remove the 'M' and convert the remaining part to float, then multiply by 1,000,000\n",
    "        return float(s[:-1]) * 1_000_000\n",
    "    else:\n",
    "        # Return the string converted to a float if no 'M' is present\n",
    "        return float(s)\n",
    "\n",
    "# Test the function\n",
    "test_string = '4.0M'\n",
    "print(convert_string_to_numeric(test_string))  # Should print 4000000\n",
    "\n",
    "# Check if it matches the expected output\n",
    "print(convert_string_to_numeric(test_string) == 4000000)  # Should print True\n"
   ]
  },
  {
   "cell_type": "markdown",
   "metadata": {},
   "source": [
    "The last step is to apply the function to the `Reviews` column in the following cell:"
   ]
  },
  {
   "cell_type": "code",
   "execution_count": 10,
   "metadata": {},
   "outputs": [
    {
     "name": "stdout",
     "output_type": "stream",
     "text": [
      "0       159.0\n",
      "1       967.0\n",
      "2     87510.0\n",
      "3    215644.0\n",
      "4       967.0\n",
      "Name: Reviews, dtype: float64\n"
     ]
    }
   ],
   "source": [
    "\n",
    "# Define the conversion function\n",
    "def convert_string_to_numeric(s):\n",
    "    if s.endswith('M'):\n",
    "        numeric_part = float(s[:-1])\n",
    "        return numeric_part * 1000000\n",
    "    else:\n",
    "        return float(s)\n",
    "\n",
    "# Apply the function to the Reviews column\n",
    "google_play['Reviews'] = google_play['Reviews'].apply(convert_string_to_numeric)\n",
    "\n",
    "# Display the first few rows to verify the transformation\n",
    "print(google_play['Reviews'].head())"
   ]
  },
  {
   "cell_type": "markdown",
   "metadata": {},
   "source": [
    "Check the non-numeric `Reviews` row again. It should have been fixed now and you should see:\n",
    "\n",
    "![Reviews_bool_fixed.png](../images/reviews-bool-fixed.png)"
   ]
  },
  {
   "cell_type": "code",
   "execution_count": 11,
   "metadata": {},
   "outputs": [
    {
     "name": "stdout",
     "output_type": "stream",
     "text": [
      "Empty DataFrame\n",
      "Columns: [App, Category, Rating, Reviews, Size, Installs, Type, Price, Content Rating, Genres, Last Updated, Current Ver, Android Ver, Reviews_numeric, Reviews_isnull]\n",
      "Index: []\n"
     ]
    }
   ],
   "source": [
    "# Your code here\n",
    "# This time, coerce errors to check for remaining non-numeric values\n",
    "google_play['Reviews'] = pd.to_numeric(google_play['Reviews'], errors='coerce')\n",
    "\n",
    "# Check for NaN values which indicate non-numeric entries were previously present\n",
    "non_numeric_rows = google_play[google_play['Reviews'].isnull()]\n",
    "print(non_numeric_rows)"
   ]
  },
  {
   "cell_type": "markdown",
   "metadata": {},
   "source": [
    "Also check the variable types of `google_play`. The `Reviews` column should be a `float64` type now."
   ]
  },
  {
   "cell_type": "code",
   "execution_count": 12,
   "metadata": {},
   "outputs": [
    {
     "name": "stdout",
     "output_type": "stream",
     "text": [
      "App                 object\n",
      "Category            object\n",
      "Rating             float64\n",
      "Reviews            float64\n",
      "Size                object\n",
      "Installs            object\n",
      "Type                object\n",
      "Price               object\n",
      "Content Rating      object\n",
      "Genres              object\n",
      "Last Updated        object\n",
      "Current Ver         object\n",
      "Android Ver         object\n",
      "Reviews_numeric    float64\n",
      "Reviews_isnull        bool\n",
      "dtype: object\n",
      "Data type of the 'Reviews' column: float64\n"
     ]
    }
   ],
   "source": [
    "# Your code here:\n",
    "# Display the data types of all columns in the DataFrame\n",
    "print(google_play.dtypes)\n",
    "\n",
    "# Optionally, check the data type of the 'Reviews' column specifically\n",
    "print(\"Data type of the 'Reviews' column:\", google_play['Reviews'].dtype)"
   ]
  },
  {
   "cell_type": "markdown",
   "metadata": {},
   "source": [
    "#### The next column we will look at is `Size`. We start by looking at all unique values in `Size`:\n",
    "\n",
    "*Hint: use `unique()` ([documentation](https://pandas.pydata.org/pandas-docs/stable/generated/pandas.Series.unique.html))*."
   ]
  },
  {
   "cell_type": "code",
   "execution_count": 13,
   "metadata": {},
   "outputs": [
    {
     "name": "stdout",
     "output_type": "stream",
     "text": [
      "['19M', '14M', '8.7M', '25M', '2.8M', '5.6M', '29M', '33M', '3.1M', '28M', '12M', '20M', '21M', '37M', '2.7M', '5.5M', '17M', '39M', '31M', '4.2M', '7.0M', '23M', '6.0M', '6.1M', '4.6M', '9.2M', '5.2M', '11M', '24M', 'Varies with device', '9.4M', '15M', '10M', '1.2M', '26M', '8.0M', '7.9M', '56M', '57M', '35M', '54M', '201k', '3.6M', '5.7M', '8.6M', '2.4M', '27M', '2.5M', '16M', '3.4M', '8.9M', '3.9M', '2.9M', '38M', '32M', '5.4M', '18M', '1.1M', '2.2M', '4.5M', '9.8M', '52M', '9.0M', '6.7M', '30M', '2.6M', '7.1M', '3.7M', '22M', '7.4M', '6.4M', '3.2M', '8.2M', '9.9M', '4.9M', '9.5M', '5.0M', '5.9M', '13M', '73M', '6.8M', '3.5M', '4.0M', '2.3M', '7.2M', '2.1M', '42M', '7.3M', '9.1M', '55M', '23k', '6.5M', '1.5M', '7.5M', '51M', '41M', '48M', '8.5M', '46M', '8.3M', '4.3M', '4.7M', '3.3M', '40M', '7.8M', '8.8M', '6.6M', '5.1M', '61M', '66M', '79k', '8.4M', '118k', '44M', '695k', '1.6M', '6.2M', '18k', '53M', '1.4M', '3.0M', '5.8M', '3.8M', '9.6M', '45M', '63M', '49M', '77M', '4.4M', '4.8M', '70M', '6.9M', '9.3M', '10.0M', '8.1M', '36M', '84M', '97M', '2.0M', '1.9M', '1.8M', '5.3M', '47M', '556k', '526k', '76M', '7.6M', '59M', '9.7M', '78M', '72M', '43M', '7.7M', '6.3M', '334k', '34M', '93M', '65M', '79M', '100M', '58M', '50M', '68M', '64M', '67M', '60M', '94M', '232k', '99M', '624k', '95M', '8.5k', '41k', '292k', '11k', '80M', '1.7M', '74M', '62M', '69M', '75M', '98M', '85M', '82M', '96M', '87M', '71M', '86M', '91M', '81M', '92M', '83M', '88M', '704k', '862k', '899k', '378k', '266k', '375k', '1.3M', '975k', '980k', '4.1M', '89M', '696k', '544k', '525k', '920k', '779k', '853k', '720k', '713k', '772k', '318k', '58k', '241k', '196k', '857k', '51k', '953k', '865k', '251k', '930k', '540k', '313k', '746k', '203k', '26k', '314k', '239k', '371k', '220k', '730k', '756k', '91k', '293k', '17k', '74k', '14k', '317k', '78k', '924k', '902k', '818k', '81k', '939k', '169k', '45k', '475k', '965k', '90M', '545k', '61k', '283k', '655k', '714k', '93k', '872k', '121k', '322k', '1.0M', '976k', '172k', '238k', '549k', '206k', '954k', '444k', '717k', '210k', '609k', '308k', '705k', '306k', '904k', '473k', '175k', '350k', '383k', '454k', '421k', '70k', '812k', '442k', '842k', '417k', '412k', '459k', '478k', '335k', '782k', '721k', '430k', '429k', '192k', '200k', '460k', '728k', '496k', '816k', '414k', '506k', '887k', '613k', '243k', '569k', '778k', '683k', '592k', '319k', '186k', '840k', '647k', '191k', '373k', '437k', '598k', '716k', '585k', '982k', '222k', '219k', '55k', '948k', '323k', '691k', '511k', '951k', '963k', '25k', '554k', '351k', '27k', '82k', '208k', '913k', '514k', '551k', '29k', '103k', '898k', '743k', '116k', '153k', '209k', '353k', '499k', '173k', '597k', '809k', '122k', '411k', '400k', '801k', '787k', '237k', '50k', '643k', '986k', '97k', '516k', '837k', '780k', '961k', '269k', '20k', '498k', '600k', '749k', '642k', '881k', '72k', '656k', '601k', '221k', '228k', '108k', '940k', '176k', '33k', '663k', '34k', '942k', '259k', '164k', '458k', '245k', '629k', '28k', '288k', '775k', '785k', '636k', '916k', '994k', '309k', '485k', '914k', '903k', '608k', '500k', '54k', '562k', '847k', '957k', '688k', '811k', '270k', '48k', '329k', '523k', '921k', '874k', '981k', '784k', '280k', '24k', '518k', '754k', '892k', '154k', '860k', '364k', '387k', '626k', '161k', '879k', '39k', '970k', '170k', '141k', '160k', '144k', '143k', '190k', '376k', '193k', '246k', '73k', '658k', '992k', '253k', '420k', '404k', '1,000+', '470k', '226k', '240k', '89k', '234k', '257k', '861k', '467k', '157k', '44k', '676k', '67k', '552k', '885k', '1020k', '582k', '619k']\n"
     ]
    }
   ],
   "source": [
    "# Your code here:\n",
    "# Display all unique values in the 'Size' column\n",
    "unique_sizes = google_play['Size'].unique()\n",
    "\n",
    "# Optionally, convert the array of unique values to a list for easier viewing\n",
    "unique_sizes_list = list(unique_sizes)\n",
    "\n",
    "# Print the unique values\n",
    "print(unique_sizes_list)"
   ]
  },
  {
   "cell_type": "markdown",
   "metadata": {},
   "source": [
    "You should have seen lots of unique values of the app sizes.\n",
    "\n",
    "#### While we can convert most of the `Size` values to numeric in the same way we converted the `Reviews` values, there is one value that is impossible to convert.\n",
    "\n",
    "What is that badass value? Enter it in the next cell and calculate the proportion of its occurence to the total number of records of `google_play`."
   ]
  },
  {
   "cell_type": "code",
   "execution_count": 14,
   "metadata": {},
   "outputs": [
    {
     "name": "stdout",
     "output_type": "stream",
     "text": [
      "Occurrences of 'Varies with device': 1695\n",
      "Total Number of Records: 10841\n",
      "Proportion of 'Varies with device': 0.15635089013928605\n"
     ]
    }
   ],
   "source": [
    "# Your code here:\n",
    "\n",
    "# Count the occurrence of 'Varies with device'\n",
    "varies_count = google_play[google_play['Size'] == 'Varies with device'].shape[0]\n",
    "\n",
    "# Total number of records in google_play\n",
    "total_records = google_play.shape[0]\n",
    "\n",
    "# Calculate the proportion\n",
    "varies_proportion = varies_count / total_records\n",
    "\n",
    "print(f\"Occurrences of 'Varies with device': {varies_count}\")\n",
    "print(f\"Total Number of Records: {total_records}\")\n",
    "print(f\"Proportion of 'Varies with device': {varies_proportion}\")"
   ]
  },
  {
   "cell_type": "markdown",
   "metadata": {},
   "source": [
    "#### While this column may be useful for other types of analysis, we opt to drop it from our dataset. \n",
    "\n",
    "There are two reasons. First, the majority of the data are ordinal but a sizeable proportion are missing because we cannot convert them to numerical values. Ordinal data are both numerical and categorical, and they usually can be ranked (e.g. 82k is smaller than 91M). In contrast, non-ordinal categorical data such as blood type and eye color cannot be ranked. The second reason is as a categorical column, it has too many unique values to produce meaningful insights. Therefore, in our case the simplest strategy would be to drop the column.\n",
    "\n",
    "Drop the column in the cell below (use `inplace=True`)"
   ]
  },
  {
   "cell_type": "code",
   "execution_count": 15,
   "metadata": {},
   "outputs": [
    {
     "name": "stdout",
     "output_type": "stream",
     "text": [
      "Index(['App', 'Category', 'Rating', 'Reviews', 'Installs', 'Type', 'Price',\n",
      "       'Content Rating', 'Genres', 'Last Updated', 'Current Ver',\n",
      "       'Android Ver', 'Reviews_numeric', 'Reviews_isnull'],\n",
      "      dtype='object')\n"
     ]
    }
   ],
   "source": [
    "# Your code here:\n",
    "google_play.drop(columns=['Size'], inplace=True)\n",
    "\n",
    "# Verify the column has been dropped\n",
    "print(google_play.columns)"
   ]
  },
  {
   "cell_type": "markdown",
   "metadata": {},
   "source": [
    "#### Now let's look at how many missing values are in each column. \n",
    "\n",
    "This will give us an idea of whether we should come up with a missing data strategy or give up on the column all together. In the next column, find the number of missing values in each column: \n",
    "\n",
    "*Hint: use the `isna()` and `sum()` functions.*"
   ]
  },
  {
   "cell_type": "code",
   "execution_count": 16,
   "metadata": {},
   "outputs": [
    {
     "name": "stdout",
     "output_type": "stream",
     "text": [
      "Number of missing values in each column:\n",
      "App                   0\n",
      "Category              0\n",
      "Rating             1474\n",
      "Reviews               0\n",
      "Installs              0\n",
      "Type                  1\n",
      "Price                 0\n",
      "Content Rating        1\n",
      "Genres                0\n",
      "Last Updated          0\n",
      "Current Ver           8\n",
      "Android Ver           3\n",
      "Reviews_numeric       1\n",
      "Reviews_isnull        0\n",
      "dtype: int64\n"
     ]
    }
   ],
   "source": [
    "# Your code here:\n",
    "missing_values_count = google_play.isna().sum()\n",
    "\n",
    "# Display the number of missing values in each column\n",
    "print(\"Number of missing values in each column:\")\n",
    "print(missing_values_count)"
   ]
  },
  {
   "cell_type": "markdown",
   "metadata": {},
   "source": [
    "You should find the column with the most missing values is now `Rating`.\n",
    "\n",
    "#### What is the proportion of the missing values in `Rating` to the total number of records?\n",
    "\n",
    "Enter your answer in the cell below."
   ]
  },
  {
   "cell_type": "code",
   "execution_count": 17,
   "metadata": {},
   "outputs": [
    {
     "name": "stdout",
     "output_type": "stream",
     "text": [
      "Proportion of missing values in 'Rating': 0.13596531685268887\n"
     ]
    }
   ],
   "source": [
    "# Your code here:\n",
    "# Calculate the number of missing values in the 'Rating' column\n",
    "missing_ratings = google_play['Rating'].isna().sum()\n",
    "\n",
    "# Calculate the total number of records in the DataFrame\n",
    "total_records = google_play.shape[0]\n",
    "\n",
    "# Calculate the proportion of missing values in 'Rating'\n",
    "missing_rating_proportion = missing_ratings / total_records\n",
    "\n",
    "# Display the proportion of missing values in 'Rating'\n",
    "print(\"Proportion of missing values in 'Rating':\", missing_rating_proportion)"
   ]
  },
  {
   "cell_type": "markdown",
   "metadata": {},
   "source": [
    "A sizeable proportion of the `Rating` column is missing. A few other columns also contain several missing values.\n",
    "\n",
    "#### We opt to preserve these columns and remove the rows containing missing data.\n",
    "\n",
    "In particular, we don't want to drop the `Rating` column because:\n",
    "\n",
    "* It is one of the most important columns in our dataset. \n",
    "\n",
    "* Since the dataset is not a time series, the loss of these rows will not have a negative impact on our ability to analyze the data. It will, however, cause us to lose some meaningful observations. But the loss is limited compared to the gain we receive by preserving these columns.\n",
    "\n",
    "In the cell below, remove all rows containing at least one missing value. Use the `dropna()` function ([documentation](https://pandas.pydata.org/pandas-docs/stable/generated/pandas.DataFrame.dropna.html)). Assign the new dataframe to the variable `google_missing_removed`."
   ]
  },
  {
   "cell_type": "code",
   "execution_count": 18,
   "metadata": {},
   "outputs": [
    {
     "name": "stdout",
     "output_type": "stream",
     "text": [
      "Original number of records: 10841\n",
      "Number of records after removing missing values: 9360\n"
     ]
    }
   ],
   "source": [
    "# Your code here:\n",
    "# Remove rows with at least one missing value\n",
    "google_missing_removed = google_play.dropna()\n",
    "\n",
    "# Confirm the operation\n",
    "print(\"Original number of records:\", google_play.shape[0])\n",
    "print(\"Number of records after removing missing values:\", google_missing_removed.shape[0])"
   ]
  },
  {
   "cell_type": "markdown",
   "metadata": {},
   "source": [
    "From now on, we use the `google_missing_removed` variable instead of `google_play`.\n",
    "\n",
    "#### Next, we look at the `Last Updated` column.\n",
    "\n",
    "The `Last Updated` column seems to contain a date, though it is classified as an object type. Let's convert this column using the `pd.to_datetime` function ([documentation](https://pandas.pydata.org/pandas-docs/stable/generated/pandas.to_datetime.html))."
   ]
  },
  {
   "cell_type": "code",
   "execution_count": 19,
   "metadata": {},
   "outputs": [
    {
     "name": "stdout",
     "output_type": "stream",
     "text": [
      "App                        object\n",
      "Category                   object\n",
      "Rating                    float64\n",
      "Reviews                   float64\n",
      "Installs                   object\n",
      "Type                       object\n",
      "Price                      object\n",
      "Content Rating             object\n",
      "Genres                     object\n",
      "Last Updated       datetime64[ns]\n",
      "Current Ver                object\n",
      "Android Ver                object\n",
      "Reviews_numeric           float64\n",
      "Reviews_isnull               bool\n",
      "dtype: object\n"
     ]
    },
    {
     "name": "stderr",
     "output_type": "stream",
     "text": [
      "C:\\Users\\navin\\AppData\\Local\\Temp\\ipykernel_22904\\364832140.py:3: SettingWithCopyWarning: \n",
      "A value is trying to be set on a copy of a slice from a DataFrame.\n",
      "Try using .loc[row_indexer,col_indexer] = value instead\n",
      "\n",
      "See the caveats in the documentation: https://pandas.pydata.org/pandas-docs/stable/user_guide/indexing.html#returning-a-view-versus-a-copy\n",
      "  google_missing_removed['Last Updated'] = pd.to_datetime(google_missing_removed['Last Updated'])\n"
     ]
    }
   ],
   "source": [
    "# Your code here:\n",
    "# Convert 'Last Updated' column to datetime format\n",
    "google_missing_removed['Last Updated'] = pd.to_datetime(google_missing_removed['Last Updated'])\n",
    "\n",
    "# Verify the conversion by displaying the data types of columns again\n",
    "print(google_missing_removed.dtypes)"
   ]
  },
  {
   "cell_type": "markdown",
   "metadata": {},
   "source": [
    "#### The last column we will transform is `Price`. \n",
    "\n",
    "We start by looking at the unique values of this column."
   ]
  },
  {
   "cell_type": "code",
   "execution_count": 20,
   "metadata": {},
   "outputs": [
    {
     "name": "stdout",
     "output_type": "stream",
     "text": [
      "Unique values in the 'Price' column: ['0', '$4.99', '$3.99', '$6.99', '$7.99', '$5.99', '$2.99', '$3.49', '$1.99', '$9.99', '$7.49', '$0.99', '$9.00', '$5.49', '$10.00', '$24.99', '$11.99', '$79.99', '$16.99', '$14.99', '$29.99', '$12.99', '$2.49', '$10.99', '$1.50', '$19.99', '$15.99', '$33.99', '$39.99', '$3.95', '$4.49', '$1.70', '$8.99', '$1.49', '$3.88', '$399.99', '$17.99', '$400.00', '$3.02', '$1.76', '$4.84', '$4.77', '$1.61', '$2.50', '$1.59', '$6.49', '$1.29', '$299.99', '$379.99', '$37.99', '$18.99', '$389.99', '$8.49', '$1.75', '$14.00', '$2.00', '$3.08', '$2.59', '$19.40', '$3.90', '$4.59', '$15.46', '$3.04', '$13.99', '$4.29', '$3.28', '$4.60', '$1.00', '$2.95', '$2.90', '$1.97', '$2.56', '$1.20']\n"
     ]
    }
   ],
   "source": [
    "# Your code here:\n",
    "# Display all unique values in the 'Price' column\n",
    "unique_prices = google_missing_removed['Price'].unique()\n",
    "\n",
    "# Optionally, convert the array of unique values to a list for easier viewing\n",
    "unique_prices_list = list(unique_prices)\n",
    "\n",
    "# Print the unique values\n",
    "print(f\"Unique values in the 'Price' column: {unique_prices_list}\")"
   ]
  },
  {
   "cell_type": "markdown",
   "metadata": {},
   "source": [
    "Since all prices are ordinal data without exceptions, we can tranform this column by removing the dollar sign and converting to numeric. We can create a new column called `Price Numerical` and drop the original column.\n",
    "\n",
    "We will achieve our goal in three steps. Follow the instructions of each step below.\n",
    "\n",
    "#### First we remove the dollar sign. Do this in the next cell by applying the `str.replace` function to the column to replace `$` with an empty string (`''`)."
   ]
  },
  {
   "cell_type": "code",
   "execution_count": 21,
   "metadata": {},
   "outputs": [
    {
     "name": "stdout",
     "output_type": "stream",
     "text": [
      "  Price Price_Numerical\n",
      "0     0               0\n",
      "1     0               0\n",
      "2     0               0\n",
      "3     0               0\n",
      "4     0               0\n"
     ]
    },
    {
     "name": "stderr",
     "output_type": "stream",
     "text": [
      "C:\\Users\\navin\\AppData\\Local\\Temp\\ipykernel_22904\\1821529808.py:3: SettingWithCopyWarning: \n",
      "A value is trying to be set on a copy of a slice from a DataFrame.\n",
      "Try using .loc[row_indexer,col_indexer] = value instead\n",
      "\n",
      "See the caveats in the documentation: https://pandas.pydata.org/pandas-docs/stable/user_guide/indexing.html#returning-a-view-versus-a-copy\n",
      "  google_missing_removed['Price_Numerical'] = google_missing_removed['Price'].str.replace('$', '', regex=False)\n"
     ]
    }
   ],
   "source": [
    "# Your code here:\n",
    "# Remove the dollar sign from the 'Price' column and store the result in a new column 'Price_Numerical'\n",
    "google_missing_removed['Price_Numerical'] = google_missing_removed['Price'].str.replace('$', '', regex=False)\n",
    "\n",
    "# Display the first few rows to confirm the dollar sign has been removed\n",
    "print(google_missing_removed[['Price', 'Price_Numerical']].head())"
   ]
  },
  {
   "cell_type": "markdown",
   "metadata": {},
   "source": [
    "#### Second step, coerce the `Price Numerical` column to numeric."
   ]
  },
  {
   "cell_type": "code",
   "execution_count": 22,
   "metadata": {},
   "outputs": [
    {
     "name": "stdout",
     "output_type": "stream",
     "text": [
      "Data type of 'Price_Numerical': float64\n",
      "  Price  Price_Numerical\n",
      "0     0              0.0\n",
      "1     0              0.0\n",
      "2     0              0.0\n",
      "3     0              0.0\n",
      "4     0              0.0\n"
     ]
    },
    {
     "name": "stderr",
     "output_type": "stream",
     "text": [
      "C:\\Users\\navin\\AppData\\Local\\Temp\\ipykernel_22904\\3040933579.py:3: SettingWithCopyWarning: \n",
      "A value is trying to be set on a copy of a slice from a DataFrame.\n",
      "Try using .loc[row_indexer,col_indexer] = value instead\n",
      "\n",
      "See the caveats in the documentation: https://pandas.pydata.org/pandas-docs/stable/user_guide/indexing.html#returning-a-view-versus-a-copy\n",
      "  google_missing_removed['Price_Numerical'] = pd.to_numeric(google_missing_removed['Price_Numerical'], errors='coerce')\n"
     ]
    }
   ],
   "source": [
    "# Your code here:\n",
    "# Coerce the 'Price_Numerical' column to numeric, converting any errors to NaN\n",
    "google_missing_removed['Price_Numerical'] = pd.to_numeric(google_missing_removed['Price_Numerical'], errors='coerce')\n",
    "\n",
    "# Optionally, check the data type of the column to confirm the conversion\n",
    "print(\"Data type of 'Price_Numerical':\", google_missing_removed['Price_Numerical'].dtype)\n",
    "\n",
    "# Displaying the first few rows to verify the conversion\n",
    "print(google_missing_removed[['Price', 'Price_Numerical']].head())"
   ]
  },
  {
   "cell_type": "markdown",
   "metadata": {},
   "source": [
    "**Finally, drop the original `Price` column.**"
   ]
  },
  {
   "cell_type": "code",
   "execution_count": 23,
   "metadata": {},
   "outputs": [
    {
     "name": "stdout",
     "output_type": "stream",
     "text": [
      "Index(['App', 'Category', 'Rating', 'Reviews', 'Installs', 'Type',\n",
      "       'Content Rating', 'Genres', 'Last Updated', 'Current Ver',\n",
      "       'Android Ver', 'Reviews_numeric', 'Reviews_isnull', 'Price_Numerical'],\n",
      "      dtype='object')\n"
     ]
    },
    {
     "name": "stderr",
     "output_type": "stream",
     "text": [
      "C:\\Users\\navin\\AppData\\Local\\Temp\\ipykernel_22904\\324320116.py:3: SettingWithCopyWarning: \n",
      "A value is trying to be set on a copy of a slice from a DataFrame\n",
      "\n",
      "See the caveats in the documentation: https://pandas.pydata.org/pandas-docs/stable/user_guide/indexing.html#returning-a-view-versus-a-copy\n",
      "  google_missing_removed.drop(columns=['Price'], inplace=True)\n"
     ]
    }
   ],
   "source": [
    "# Your code here:\n",
    "# Drop the original 'Price' column from the DataFrame\n",
    "google_missing_removed.drop(columns=['Price'], inplace=True)\n",
    "\n",
    "# Verify the column has been removed\n",
    "print(google_missing_removed.columns)"
   ]
  },
  {
   "cell_type": "markdown",
   "metadata": {},
   "source": [
    "Now check the variable types of `google_missing_removed`. Make sure:\n",
    "\n",
    "* `Size` and `Price` columns have been removed.\n",
    "* `Rating`, `Reviews`, and `Price Numerical` have the type of `float64`.\n",
    "* `Last Updated` has the type of `datetime64`."
   ]
  },
  {
   "cell_type": "code",
   "execution_count": 24,
   "metadata": {},
   "outputs": [
    {
     "name": "stdout",
     "output_type": "stream",
     "text": [
      "App                        object\n",
      "Category                   object\n",
      "Rating                    float64\n",
      "Reviews                   float64\n",
      "Installs                   object\n",
      "Type                       object\n",
      "Content Rating             object\n",
      "Genres                     object\n",
      "Last Updated       datetime64[ns]\n",
      "Current Ver                object\n",
      "Android Ver                object\n",
      "Reviews_numeric           float64\n",
      "Reviews_isnull               bool\n",
      "Price_Numerical           float64\n",
      "dtype: object\n"
     ]
    }
   ],
   "source": [
    "# Your code here\n",
    "# Display the data types of all columns in the DataFrame\n",
    "print(google_missing_removed.dtypes)"
   ]
  },
  {
   "cell_type": "markdown",
   "metadata": {},
   "source": [
    "# Challenge 2 - Loading and Extracting Features from the Second Dataset"
   ]
  },
  {
   "cell_type": "markdown",
   "metadata": {},
   "source": [
    "Load the second dataset to the variable `google_reviews`. The data is in the file `googleplaystore_user_reviews.csv`."
   ]
  },
  {
   "cell_type": "code",
   "execution_count": 25,
   "metadata": {},
   "outputs": [
    {
     "name": "stdout",
     "output_type": "stream",
     "text": [
      "Dataset loaded successfully. Here are the first few rows:\n",
      "                     App                                  Translated_Review  \\\n",
      "0  10 Best Foods for You  I like eat delicious food. That's I'm cooking ...   \n",
      "1  10 Best Foods for You    This help eating healthy exercise regular basis   \n",
      "2  10 Best Foods for You                                                NaN   \n",
      "3  10 Best Foods for You         Works great especially going grocery store   \n",
      "4  10 Best Foods for You                                       Best idea us   \n",
      "\n",
      "  Sentiment  Sentiment_Polarity  Sentiment_Subjectivity  \n",
      "0  Positive                1.00                0.533333  \n",
      "1  Positive                0.25                0.288462  \n",
      "2       NaN                 NaN                     NaN  \n",
      "3  Positive                0.40                0.875000  \n",
      "4  Positive                1.00                0.300000  \n"
     ]
    }
   ],
   "source": [
    "# Your code here:\n",
    "file_path = r'C:\\Users\\navin\\OneDrive\\Desktop\\Ironhack\\Week_Lab\\Week 17\\lab-feature-extraction\\data\\googleplaystore_user_reviews.csv'\n",
    "google_reviews = pd.read_csv(file_path)\n",
    "\n",
    "# Verify the dataset is loaded\n",
    "print(\"Dataset loaded successfully. Here are the first few rows:\")\n",
    "print(google_reviews.head())"
   ]
  },
  {
   "cell_type": "markdown",
   "metadata": {},
   "source": [
    "#### This dataset contains the top 100 reviews for each app. \n",
    "\n",
    "Let's examine this dataset using the `head` function"
   ]
  },
  {
   "cell_type": "code",
   "execution_count": 26,
   "metadata": {},
   "outputs": [
    {
     "name": "stdout",
     "output_type": "stream",
     "text": [
      "                     App                                  Translated_Review  \\\n",
      "0  10 Best Foods for You  I like eat delicious food. That's I'm cooking ...   \n",
      "1  10 Best Foods for You    This help eating healthy exercise regular basis   \n",
      "2  10 Best Foods for You                                                NaN   \n",
      "3  10 Best Foods for You         Works great especially going grocery store   \n",
      "4  10 Best Foods for You                                       Best idea us   \n",
      "\n",
      "  Sentiment  Sentiment_Polarity  Sentiment_Subjectivity  \n",
      "0  Positive                1.00                0.533333  \n",
      "1  Positive                0.25                0.288462  \n",
      "2       NaN                 NaN                     NaN  \n",
      "3  Positive                0.40                0.875000  \n",
      "4  Positive                1.00                0.300000  \n"
     ]
    }
   ],
   "source": [
    "# Your code here\n",
    "# Display the first few rows of the google_reviews DataFrame\n",
    "print(google_reviews.head())"
   ]
  },
  {
   "cell_type": "markdown",
   "metadata": {},
   "source": [
    "#### The main piece of information we would like to extract from this dataset is the proportion of positive reviews of each app. \n",
    "\n",
    "Columns like `Sentiment_Polarity` and `Sentiment_Subjectivity` are not to our interests because we have no clue how to use them. We do not care about `Translated_Review` because natural language processing is too complex for us at present (in fact the `Sentiment`, `Sentiment_Polarity`, and `Sentiment_Subjectivity` columns are derived from `Translated_Review` the data scientists). \n",
    "\n",
    "What we care about in this challenge is `Sentiment`. To be more precise, we care about **what is the proportion of *Positive* sentiment of each app**. This will require us to aggregate the `Sentiment` data by `App` in order to calculate the proportions.\n",
    "\n",
    "Now that you are clear about what we are trying to achieve, follow the steps below that will walk you through towards our goal."
   ]
  },
  {
   "cell_type": "markdown",
   "metadata": {},
   "source": [
    "#### Our first step will be to remove all rows with missing sentiment. \n",
    "\n",
    "In the next cell, drop all rows with missing data using the `dropna()` function and assign this new dataframe to `review_missing_removed`."
   ]
  },
  {
   "cell_type": "code",
   "execution_count": 27,
   "metadata": {},
   "outputs": [
    {
     "name": "stdout",
     "output_type": "stream",
     "text": [
      "                     App                                  Translated_Review  \\\n",
      "0  10 Best Foods for You  I like eat delicious food. That's I'm cooking ...   \n",
      "1  10 Best Foods for You    This help eating healthy exercise regular basis   \n",
      "3  10 Best Foods for You         Works great especially going grocery store   \n",
      "4  10 Best Foods for You                                       Best idea us   \n",
      "5  10 Best Foods for You                                           Best way   \n",
      "\n",
      "  Sentiment  Sentiment_Polarity  Sentiment_Subjectivity  \n",
      "0  Positive                1.00                0.533333  \n",
      "1  Positive                0.25                0.288462  \n",
      "3  Positive                0.40                0.875000  \n",
      "4  Positive                1.00                0.300000  \n",
      "5  Positive                1.00                0.300000  \n"
     ]
    }
   ],
   "source": [
    "# Your code here:\n",
    "# Drop rows where the sentiment column has missing values\n",
    "review_missing_removed = google_reviews.dropna(subset=['Sentiment'])\n",
    "\n",
    "# Display the first few rows to verify that rows with missing sentiment have been removed\n",
    "print(review_missing_removed.head())"
   ]
  },
  {
   "cell_type": "markdown",
   "metadata": {},
   "source": [
    "#### Now, use the `value_counts()` function ([documentation](https://pandas.pydata.org/pandas-docs/stable/generated/pandas.Series.value_counts.html)) to get a sense on how many apps are in this dataset and their review counts."
   ]
  },
  {
   "cell_type": "code",
   "execution_count": 28,
   "metadata": {},
   "outputs": [
    {
     "name": "stdout",
     "output_type": "stream",
     "text": [
      "App\n",
      "Bowmasters                                           312\n",
      "Helix Jump                                           273\n",
      "Angry Birds Classic                                  273\n",
      "Calorie Counter - MyFitnessPal                       255\n",
      "Duolingo: Learn Languages Free                       240\n",
      "                                                    ... \n",
      "CallApp: Caller ID, Blocker & Phone Call Recorder      1\n",
      "Daily Workouts - Exercise Fitness Routine Trainer      1\n",
      "CBS News                                               1\n",
      "Google Trips - Travel Planner                          1\n",
      "GPS Map Free                                           1\n",
      "Name: count, Length: 865, dtype: int64\n"
     ]
    }
   ],
   "source": [
    "# Your code here:\n",
    "app_review_counts = review_missing_removed['App'].value_counts()\n",
    "\n",
    "# Display the counts\n",
    "print(app_review_counts)\n"
   ]
  },
  {
   "cell_type": "markdown",
   "metadata": {},
   "source": [
    "#### Now the tough part comes. Let's plan how we will achieve our goal:\n",
    "\n",
    "1. We will count the number of reviews that contain *Positive* in the `Sentiment` column.\n",
    "\n",
    "1. We will create a new dataframe to contain the `App` name, the number of positive reviews, and the total number of reviews of each app.\n",
    "\n",
    "1. We will then loop the new dataframe to calculate the postivie review portion of each app."
   ]
  },
  {
   "cell_type": "markdown",
   "metadata": {},
   "source": [
    "#### Step 1: Count the number of positive reviews.\n",
    "\n",
    "In the following cell, write a function that takes a column and returns the number of times *Positive* appears in the column. \n",
    "\n",
    "*Hint: One option is to use the `np.where()` function ([documentation](https://docs.scipy.org/doc/numpy-1.13.0/reference/generated/numpy.where.html)).*"
   ]
  },
  {
   "cell_type": "code",
   "execution_count": 30,
   "metadata": {},
   "outputs": [],
   "source": [
    "# Your code below\n",
    "import numpy as np\n",
    "\n",
    "def positive_function(x):\n",
    "    \"\"\"\n",
    "    Count how many times the string `Positive` appears in a column (exact string match).\n",
    "    \n",
    "    Args:\n",
    "        x: data column\n",
    "    \n",
    "    Returns:\n",
    "        The number of occurrences of `Positive` in the column data.\n",
    "    \"\"\"\n",
    "    # np.where returns indices where the condition is True; comparing its length gives the count\n",
    "    return np.sum(np.where(x == 'Positive', 1, 0))\n",
    "\n",
    "    # Applying the function to the 'Sentiment' column and printing the result\n",
    "    positive_count = positive_function(review_missing_removed['Sentiment'])\n",
    "    print(f\"Number of positive reviews: {positive_count}\")"
   ]
  },
  {
   "cell_type": "code",
   "execution_count": 31,
   "metadata": {},
   "outputs": [
    {
     "name": "stdout",
     "output_type": "stream",
     "text": [
      "['Positive' 'Neutral' 'Negative']\n"
     ]
    }
   ],
   "source": [
    "print(review_missing_removed['Sentiment'].unique())"
   ]
  },
  {
   "cell_type": "code",
   "execution_count": 32,
   "metadata": {},
   "outputs": [
    {
     "name": "stderr",
     "output_type": "stream",
     "text": [
      "C:\\Users\\navin\\AppData\\Local\\Temp\\ipykernel_22904\\1403256277.py:2: SettingWithCopyWarning: \n",
      "A value is trying to be set on a copy of a slice from a DataFrame.\n",
      "Try using .loc[row_indexer,col_indexer] = value instead\n",
      "\n",
      "See the caveats in the documentation: https://pandas.pydata.org/pandas-docs/stable/user_guide/indexing.html#returning-a-view-versus-a-copy\n",
      "  review_missing_removed['Sentiment'] = review_missing_removed['Sentiment'].str.lower()\n"
     ]
    }
   ],
   "source": [
    "# Making the comparison case-insensitive\n",
    "review_missing_removed['Sentiment'] = review_missing_removed['Sentiment'].str.lower()"
   ]
  },
  {
   "cell_type": "code",
   "execution_count": 33,
   "metadata": {},
   "outputs": [
    {
     "name": "stdout",
     "output_type": "stream",
     "text": [
      "Number of positive reviews: 23998\n"
     ]
    }
   ],
   "source": [
    "def positive_function(x):\n",
    "    \"\"\"\n",
    "    Count the number of 'positive' instances in a column.\n",
    "    \n",
    "    Args:\n",
    "        x (pd.Series): The data column being evaluated.\n",
    "    \n",
    "    Returns:\n",
    "        int: The count of 'positive' instances.\n",
    "    \"\"\"\n",
    "    # Adjust the comparison based on the preprocessing\n",
    "    return np.sum(x == 'positive')  # Assuming the sentiment labels have been lowercased\n",
    "\n",
    "# Apply the function and print the count\n",
    "positive_count = positive_function(review_missing_removed['Sentiment'])\n",
    "print(f\"Number of positive reviews: {positive_count}\")"
   ]
  },
  {
   "cell_type": "markdown",
   "metadata": {},
   "source": [
    " Step 2: Create a new dataframe to contain the `App` name, the number of positive reviews, and the total number of reviews of each app\n",
    "\n",
    "We will group `review_missing_removed` by the `App` column, then aggregate the grouped dataframe on the number of positive reviews and the total review counts of each app. The result will be assigned to a new variable `google_agg`. Here is the ([documentation on how to achieve it](https://pandas.pydata.org/pandas-docs/stable/generated/pandas.core.groupby.DataFrameGroupBy.agg.html)). Take a moment or two to read the documentation and google examples because it is pretty complex.\n",
    "\n",
    "When you obtain `google_agg`, check its values to make sure it has an `App` column as its index as well as a `Positive` column and a `Total` column. Your output should look like:\n",
    "\n",
    "![Positive Reviews Agg](../images/positive-review-agg.png)\n",
    "\n",
    "*Hint: Use `positive_function` you created earlier as part of the param passed to the `agg()` function in order to aggregate the number of positive reviews.*\n",
    "\n",
    "Bonus:\n",
    "\n",
    "As of Pandas v0.23.4, you may opt to supply an array or an object to `agg()`. If you use the array param, you'll need to rename the columns so that their names are `Positive` and `Total`. Using the object param will allow you to create the aggregated columns with the desirable names without renaming them. However, you will probably encounter a warning indicating supplying an object to `agg()` will become outdated. It's up to you which way you will use. Try both ways out. Any way is fine as long as it works."
   ]
  },
  {
   "cell_type": "code",
   "execution_count": 47,
   "metadata": {},
   "outputs": [],
   "source": [
    "# Your code here:\n",
    "#Review the dataframe\n",
    "def positive_function(x):\n",
    "    \"\"\"Count the number of positive values in a Series\"\"\"\n",
    "    return (x == 'Positive').sum()\n",
    "\n",
    "#Group and Aggregate the Dataframe\n",
    "google_agg = review_missing_removed.groupby('App').agg(\n",
    "    Positive=('Sentiment', positive_function),\n",
    "    Total=('Translated_Review', 'count') \n",
    ").reset_index()"
   ]
  },
  {
   "cell_type": "code",
   "execution_count": null,
   "metadata": {},
   "outputs": [],
   "source": []
  },
  {
   "cell_type": "markdown",
   "metadata": {},
   "source": [
    "Print the first 5 rows of `google_agg` to check it."
   ]
  },
  {
   "cell_type": "code",
   "execution_count": 48,
   "metadata": {},
   "outputs": [
    {
     "name": "stdout",
     "output_type": "stream",
     "text": [
      "                                App  Positive  Total\n",
      "0             10 Best Foods for You         0    194\n",
      "1  104 找工作 - 找工作 找打工 找兼職 履歷健檢 履歷診療室         0     40\n",
      "2                              11st         0     39\n",
      "3        1800 Contacts - Lens Store         0     80\n",
      "4   1LINE – One Line with One Touch         0     38\n"
     ]
    }
   ],
   "source": [
    "# Your code here\n",
    "# Display the first few rows to inspect\n",
    "print(google_agg.head())"
   ]
  },
  {
   "cell_type": "markdown",
   "metadata": {},
   "source": [
    "#### Add a derived column to `google_agg` that is the ratio of the `Positive` and the `Total` columns. Call this column `Positive Ratio`. \n",
    "\n",
    "Make sure to account for the case where the denominator is zero using the `np.where()` function."
   ]
  },
  {
   "cell_type": "code",
   "execution_count": 49,
   "metadata": {},
   "outputs": [
    {
     "name": "stdout",
     "output_type": "stream",
     "text": [
      "                                App  Positive  Total  Positive Ratio\n",
      "0             10 Best Foods for You         0    194             0.0\n",
      "1  104 找工作 - 找工作 找打工 找兼職 履歷健檢 履歷診療室         0     40             0.0\n",
      "2                              11st         0     39             0.0\n",
      "3        1800 Contacts - Lens Store         0     80             0.0\n",
      "4   1LINE – One Line with One Touch         0     38             0.0\n"
     ]
    }
   ],
   "source": [
    "# Your code here:\n",
    "# Assuming 'Positive' and 'Total' columns exist in google_agg\n",
    "google_agg['Positive Ratio'] = np.where(\n",
    "    google_agg['Total'] > 0,  # Condition\n",
    "    google_agg['Positive'] / google_agg['Total'],  # Operation if condition is True\n",
    "    0)  # Value if condition is False (avoid division by zero)\n",
    "\n",
    "# Display the first few rows to verify the new column\n",
    "print(google_agg.head())"
   ]
  },
  {
   "cell_type": "markdown",
   "metadata": {},
   "source": [
    "#### Now drop the `Positive` and `Total` columns. Do this with `inplace=True`."
   ]
  },
  {
   "cell_type": "code",
   "execution_count": 42,
   "metadata": {},
   "outputs": [
    {
     "name": "stdout",
     "output_type": "stream",
     "text": [
      "Index(['App', 'Positive Ratio'], dtype='object')\n"
     ]
    }
   ],
   "source": [
    "# Your code here:\n",
    "# Dropping the 'Positive' and 'Total' columns from google_agg DataFrame\n",
    "google_agg.drop(columns=['Positive', 'Total'], inplace=True)\n",
    "\n",
    "# Verify the columns have been removed by displaying remaining columns\n",
    "print(google_agg.columns)"
   ]
  },
  {
   "cell_type": "markdown",
   "metadata": {},
   "source": [
    "Print the first 5 rows of `google_agg`. Your output should look like:\n",
    "\n",
    "![Positive Reviews Agg](../images/positive-review-ratio.png)"
   ]
  },
  {
   "cell_type": "code",
   "execution_count": 43,
   "metadata": {},
   "outputs": [
    {
     "name": "stdout",
     "output_type": "stream",
     "text": [
      "                                App  Positive Ratio\n",
      "0             10 Best Foods for You             0.0\n",
      "1  104 找工作 - 找工作 找打工 找兼職 履歷健檢 履歷診療室             0.0\n",
      "2                              11st             0.0\n",
      "3        1800 Contacts - Lens Store             0.0\n",
      "4   1LINE – One Line with One Touch             0.0\n"
     ]
    }
   ],
   "source": [
    "# Your code here:\n",
    "print(google_agg.head())"
   ]
  },
  {
   "cell_type": "markdown",
   "metadata": {},
   "source": [
    "# Challenge 3 - Join the Dataframes\n",
    "\n",
    "In this part of the lab, we will join the two dataframes and obtain a dataframe that contains features we can use in our ML algorithm.\n",
    "\n",
    "In the next cell, join the `google_missing_removed` dataframe with the `google_agg` dataframe on the `App` column. Assign this dataframe to the variable `google`."
   ]
  },
  {
   "cell_type": "code",
   "execution_count": 44,
   "metadata": {},
   "outputs": [
    {
     "name": "stdout",
     "output_type": "stream",
     "text": [
      "                                         App        Category  Rating  \\\n",
      "0                        Coloring book moana  ART_AND_DESIGN     3.9   \n",
      "1                       Garden Coloring Book  ART_AND_DESIGN     4.4   \n",
      "2              FlipaClip - Cartoon animation  ART_AND_DESIGN     4.3   \n",
      "3  Boys Photo Editor - Six Pack & Men's Suit  ART_AND_DESIGN     4.1   \n",
      "4              Colorfit - Drawing & Coloring  ART_AND_DESIGN     4.7   \n",
      "\n",
      "    Reviews    Installs  Type Content Rating                     Genres  \\\n",
      "0     967.0    500,000+  Free       Everyone  Art & Design;Pretend Play   \n",
      "1   13791.0  1,000,000+  Free       Everyone               Art & Design   \n",
      "2  194216.0  5,000,000+  Free       Everyone               Art & Design   \n",
      "3     654.0    100,000+  Free       Everyone               Art & Design   \n",
      "4   20260.0    500,000+  Free       Everyone    Art & Design;Creativity   \n",
      "\n",
      "  Last Updated Current Ver   Android Ver  Reviews_numeric  Reviews_isnull  \\\n",
      "0   2018-01-15       2.0.0  4.0.3 and up            967.0           False   \n",
      "1   2017-09-20       2.9.2    3.0 and up          13791.0           False   \n",
      "2   2018-08-03       2.2.5  4.0.3 and up         194216.0           False   \n",
      "3   2018-03-20         1.1  4.0.3 and up            654.0           False   \n",
      "4   2017-10-11       1.0.8  4.0.3 and up          20260.0           False   \n",
      "\n",
      "   Price_Numerical  Positive Ratio  \n",
      "0              0.0             0.0  \n",
      "1              0.0             0.0  \n",
      "2              0.0             0.0  \n",
      "3              0.0             0.0  \n",
      "4              0.0             0.0  \n"
     ]
    }
   ],
   "source": [
    "# Your code here:\n",
    "\n",
    "# Merge google_missing_removed and google_agg on the 'App' column\n",
    "google = pd.merge(google_missing_removed, google_agg, on='App', how='inner')\n",
    "\n",
    "# Display the first few rows to verify the merge\n",
    "print(google.head())"
   ]
  },
  {
   "cell_type": "markdown",
   "metadata": {},
   "source": [
    "#### Let's look at the final result using the `head()` function. Your final product should look like:\n",
    "\n",
    "![Final Product](../images/google-final-head.png)"
   ]
  },
  {
   "cell_type": "code",
   "execution_count": 45,
   "metadata": {},
   "outputs": [
    {
     "name": "stdout",
     "output_type": "stream",
     "text": [
      "                                         App        Category  Rating  \\\n",
      "0                        Coloring book moana  ART_AND_DESIGN     3.9   \n",
      "1                       Garden Coloring Book  ART_AND_DESIGN     4.4   \n",
      "2              FlipaClip - Cartoon animation  ART_AND_DESIGN     4.3   \n",
      "3  Boys Photo Editor - Six Pack & Men's Suit  ART_AND_DESIGN     4.1   \n",
      "4              Colorfit - Drawing & Coloring  ART_AND_DESIGN     4.7   \n",
      "\n",
      "    Reviews    Installs  Type Content Rating                     Genres  \\\n",
      "0     967.0    500,000+  Free       Everyone  Art & Design;Pretend Play   \n",
      "1   13791.0  1,000,000+  Free       Everyone               Art & Design   \n",
      "2  194216.0  5,000,000+  Free       Everyone               Art & Design   \n",
      "3     654.0    100,000+  Free       Everyone               Art & Design   \n",
      "4   20260.0    500,000+  Free       Everyone    Art & Design;Creativity   \n",
      "\n",
      "  Last Updated Current Ver   Android Ver  Reviews_numeric  Reviews_isnull  \\\n",
      "0   2018-01-15       2.0.0  4.0.3 and up            967.0           False   \n",
      "1   2017-09-20       2.9.2    3.0 and up          13791.0           False   \n",
      "2   2018-08-03       2.2.5  4.0.3 and up         194216.0           False   \n",
      "3   2018-03-20         1.1  4.0.3 and up            654.0           False   \n",
      "4   2017-10-11       1.0.8  4.0.3 and up          20260.0           False   \n",
      "\n",
      "   Price_Numerical  Positive Ratio  \n",
      "0              0.0             0.0  \n",
      "1              0.0             0.0  \n",
      "2              0.0             0.0  \n",
      "3              0.0             0.0  \n",
      "4              0.0             0.0  \n"
     ]
    }
   ],
   "source": [
    "# Your code here:\n",
    "print(google.head())"
   ]
  },
  {
   "cell_type": "code",
   "execution_count": null,
   "metadata": {},
   "outputs": [],
   "source": []
  }
 ],
 "metadata": {
  "kernelspec": {
   "display_name": "Python 3 (ipykernel)",
   "language": "python",
   "name": "python3"
  },
  "language_info": {
   "codemirror_mode": {
    "name": "ipython",
    "version": 3
   },
   "file_extension": ".py",
   "mimetype": "text/x-python",
   "name": "python",
   "nbconvert_exporter": "python",
   "pygments_lexer": "ipython3",
   "version": "3.11.7"
  }
 },
 "nbformat": 4,
 "nbformat_minor": 4
}
